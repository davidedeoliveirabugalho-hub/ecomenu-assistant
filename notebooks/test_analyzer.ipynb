{
 "cells": [
  {
   "cell_type": "markdown",
   "id": "557fb088",
   "metadata": {},
   "source": [
    "# Analyses statistiques de la base Agribalyse"
   ]
  },
  {
   "cell_type": "markdown",
   "id": "67559b46",
   "metadata": {},
   "source": [
    "## Import des packages"
   ]
  },
  {
   "cell_type": "code",
   "execution_count": 1,
   "id": "9f5d8473",
   "metadata": {},
   "outputs": [],
   "source": [
    "import matplotlib.pyplot as plt\n",
    "import seaborn as sns\n",
    "import matplotlib\n",
    "\n",
    "import pandas as pd\n",
    "import numpy as np\n",
    "\n",
    "from tqdm import tqdm # package pour afficher des barres de progression"
   ]
  },
  {
   "cell_type": "markdown",
   "id": "70d57d9a",
   "metadata": {},
   "source": [
    "## Chargement des données"
   ]
  },
  {
   "cell_type": "code",
   "execution_count": 2,
   "id": "996ee92c",
   "metadata": {},
   "outputs": [
    {
     "name": "stdout",
     "output_type": "stream",
     "text": [
      "Chargement des données depuis: /Users/davidbugalho/Desktop/ecomenu-assistant/data/raw/Agribalyse_Synthese.csv\n",
      "Données chargées: 14956 lignes, 32 colonnes\n",
      "Après nettoyage: 2451 lignes utiles\n",
      "Colonnes sélectionnées: 7\n",
      "Données chargées: 2451 lignes, 7 colonnes\n"
     ]
    },
    {
     "data": {
      "application/vnd.microsoft.datawrangler.viewer.v0+json": {
       "columns": [
        {
         "name": "index",
         "rawType": "int64",
         "type": "integer"
        },
        {
         "name": "Nom du Produit en Français",
         "rawType": "string",
         "type": "string"
        },
        {
         "name": "Groupe d'aliment",
         "rawType": "string",
         "type": "string"
        },
        {
         "name": "Sous-groupe d'aliment",
         "rawType": "string",
         "type": "string"
        },
        {
         "name": "Changement climatique",
         "rawType": "float64",
         "type": "float"
        },
        {
         "name": "DQR",
         "rawType": "float64",
         "type": "float"
        },
        {
         "name": "code saison",
         "rawType": "float64",
         "type": "float"
        },
        {
         "name": "code avion",
         "rawType": "float64",
         "type": "float"
        }
       ],
       "ref": "28728f20-645c-46f1-a3ab-fb00e0188751",
       "rows": [
        [
         "0",
         "Court-bouillon pour poissons, déshydraté",
         "aides culinaires et ingrédients divers",
         "aides culinaires",
         "7.58",
         "2.24",
         "2.0",
         "0.0"
        ],
        [
         "1",
         "Pizza, sauce garniture pour",
         "aides culinaires et ingrédients divers",
         "aides culinaires",
         "0.94",
         "2.19",
         "2.0",
         "0.0"
        ],
        [
         "2",
         "Préparation culinaire à base de soja, type \"crème de soja\"",
         "aides culinaires et ingrédients divers",
         "aides culinaires",
         "1.17",
         "1.75",
         "2.0",
         "0.0"
        ],
        [
         "3",
         "Agar (algue), cru",
         "aides culinaires et ingrédients divers",
         "algues",
         "11.8",
         "2.77",
         "2.0",
         "0.0"
        ],
        [
         "4",
         "Ao-nori (Enteromorpha sp.), séchée ou déshydratée",
         "aides culinaires et ingrédients divers",
         "algues",
         "11.8",
         "2.77",
         "2.0",
         "0.0"
        ]
       ],
       "shape": {
        "columns": 7,
        "rows": 5
       }
      },
      "text/html": [
       "<div>\n",
       "<style scoped>\n",
       "    .dataframe tbody tr th:only-of-type {\n",
       "        vertical-align: middle;\n",
       "    }\n",
       "\n",
       "    .dataframe tbody tr th {\n",
       "        vertical-align: top;\n",
       "    }\n",
       "\n",
       "    .dataframe thead th {\n",
       "        text-align: right;\n",
       "    }\n",
       "</style>\n",
       "<table border=\"1\" class=\"dataframe\">\n",
       "  <thead>\n",
       "    <tr style=\"text-align: right;\">\n",
       "      <th></th>\n",
       "      <th>Nom du Produit en Français</th>\n",
       "      <th>Groupe d'aliment</th>\n",
       "      <th>Sous-groupe d'aliment</th>\n",
       "      <th>Changement climatique</th>\n",
       "      <th>DQR</th>\n",
       "      <th>code saison</th>\n",
       "      <th>code avion</th>\n",
       "    </tr>\n",
       "  </thead>\n",
       "  <tbody>\n",
       "    <tr>\n",
       "      <th>0</th>\n",
       "      <td>Court-bouillon pour poissons, déshydraté</td>\n",
       "      <td>aides culinaires et ingrédients divers</td>\n",
       "      <td>aides culinaires</td>\n",
       "      <td>7.58</td>\n",
       "      <td>2.24</td>\n",
       "      <td>2.0</td>\n",
       "      <td>0.0</td>\n",
       "    </tr>\n",
       "    <tr>\n",
       "      <th>1</th>\n",
       "      <td>Pizza, sauce garniture pour</td>\n",
       "      <td>aides culinaires et ingrédients divers</td>\n",
       "      <td>aides culinaires</td>\n",
       "      <td>0.94</td>\n",
       "      <td>2.19</td>\n",
       "      <td>2.0</td>\n",
       "      <td>0.0</td>\n",
       "    </tr>\n",
       "    <tr>\n",
       "      <th>2</th>\n",
       "      <td>Préparation culinaire à base de soja, type \"cr...</td>\n",
       "      <td>aides culinaires et ingrédients divers</td>\n",
       "      <td>aides culinaires</td>\n",
       "      <td>1.17</td>\n",
       "      <td>1.75</td>\n",
       "      <td>2.0</td>\n",
       "      <td>0.0</td>\n",
       "    </tr>\n",
       "    <tr>\n",
       "      <th>3</th>\n",
       "      <td>Agar (algue), cru</td>\n",
       "      <td>aides culinaires et ingrédients divers</td>\n",
       "      <td>algues</td>\n",
       "      <td>11.80</td>\n",
       "      <td>2.77</td>\n",
       "      <td>2.0</td>\n",
       "      <td>0.0</td>\n",
       "    </tr>\n",
       "    <tr>\n",
       "      <th>4</th>\n",
       "      <td>Ao-nori (Enteromorpha sp.), séchée ou déshydratée</td>\n",
       "      <td>aides culinaires et ingrédients divers</td>\n",
       "      <td>algues</td>\n",
       "      <td>11.80</td>\n",
       "      <td>2.77</td>\n",
       "      <td>2.0</td>\n",
       "      <td>0.0</td>\n",
       "    </tr>\n",
       "  </tbody>\n",
       "</table>\n",
       "</div>"
      ],
      "text/plain": [
       "                          Nom du Produit en Français  \\\n",
       "0           Court-bouillon pour poissons, déshydraté   \n",
       "1                        Pizza, sauce garniture pour   \n",
       "2  Préparation culinaire à base de soja, type \"cr...   \n",
       "3                                  Agar (algue), cru   \n",
       "4  Ao-nori (Enteromorpha sp.), séchée ou déshydratée   \n",
       "\n",
       "                         Groupe d'aliment Sous-groupe d'aliment  \\\n",
       "0  aides culinaires et ingrédients divers      aides culinaires   \n",
       "1  aides culinaires et ingrédients divers      aides culinaires   \n",
       "2  aides culinaires et ingrédients divers      aides culinaires   \n",
       "3  aides culinaires et ingrédients divers                algues   \n",
       "4  aides culinaires et ingrédients divers                algues   \n",
       "\n",
       "   Changement climatique   DQR  code saison  code avion  \n",
       "0                   7.58  2.24          2.0         0.0  \n",
       "1                   0.94  2.19          2.0         0.0  \n",
       "2                   1.17  1.75          2.0         0.0  \n",
       "3                  11.80  2.77          2.0         0.0  \n",
       "4                  11.80  2.77          2.0         0.0  "
      ]
     },
     "execution_count": 2,
     "metadata": {},
     "output_type": "execute_result"
    }
   ],
   "source": [
    "# Utilisation du module créé dans \"loader.py\"\n",
    "\n",
    "import sys\n",
    "from pathlib import Path\n",
    "\n",
    "# Ajout du chemin vers les modules\n",
    "project_root = Path.cwd().parent\n",
    "sys.path.append(str(project_root / \"src\"))\n",
    "\n",
    "# Import de la fonction\n",
    "from ecomenu_assistant.data.loader import load_agribalyse_data\n",
    "\n",
    "# Chargement des données\n",
    "data = load_agribalyse_data()\n",
    "\n",
    "# Vérification du chargement\n",
    "print(f\"Données chargées: {len(data)} lignes, {len(data.columns)} colonnes\")\n",
    "data.head()"
   ]
  },
  {
   "cell_type": "markdown",
   "id": "783901f8",
   "metadata": {},
   "source": [
    "## Analyse"
   ]
  },
  {
   "cell_type": "markdown",
   "id": "8635572c",
   "metadata": {},
   "source": [
    "### Informations générales"
   ]
  },
  {
   "cell_type": "code",
   "execution_count": 3,
   "id": "a32ca0fc",
   "metadata": {},
   "outputs": [
    {
     "name": "stdout",
     "output_type": "stream",
     "text": [
      "<class 'pandas.core.frame.DataFrame'>\n",
      "Index: 2451 entries, 0 to 2450\n",
      "Data columns (total 7 columns):\n",
      " #   Column                      Non-Null Count  Dtype  \n",
      "---  ------                      --------------  -----  \n",
      " 0   Nom du Produit en Français  2451 non-null   string \n",
      " 1   Groupe d'aliment            2451 non-null   string \n",
      " 2   Sous-groupe d'aliment       2451 non-null   string \n",
      " 3   Changement climatique       2451 non-null   float64\n",
      " 4   DQR                         2451 non-null   float64\n",
      " 5   code saison                 2451 non-null   float64\n",
      " 6   code avion                  2451 non-null   float64\n",
      "dtypes: float64(4), string(3)\n",
      "memory usage: 153.2 KB\n"
     ]
    },
    {
     "data": {
      "application/vnd.microsoft.datawrangler.viewer.v0+json": {
       "columns": [
        {
         "name": "index",
         "rawType": "object",
         "type": "string"
        },
        {
         "name": "Changement climatique",
         "rawType": "float64",
         "type": "float"
        },
        {
         "name": "DQR",
         "rawType": "float64",
         "type": "float"
        },
        {
         "name": "code saison",
         "rawType": "float64",
         "type": "float"
        },
        {
         "name": "code avion",
         "rawType": "float64",
         "type": "float"
        }
       ],
       "ref": "be88d16d-c00d-4f9d-a257-f0e51a173bcf",
       "rows": [
        [
         "count",
         "2451.0",
         "2451.0",
         "2451.0",
         "2451.0"
        ],
        [
         "mean",
         "5.764182106079151",
         "2.461334149326805",
         "1.9975520195838434",
         "0.0008159934720522236"
        ],
        [
         "std",
         "8.115851125787275",
         "0.6735878159896258",
         "0.06384072053933007",
         "0.02855976914283801"
        ],
        [
         "min",
         "0.000342",
         "1.0",
         "0.0",
         "0.0"
        ],
        [
         "25%",
         "1.37",
         "1.96",
         "2.0",
         "0.0"
        ],
        [
         "50%",
         "2.78",
         "2.55",
         "2.0",
         "0.0"
        ],
        [
         "75%",
         "6.57",
         "2.94",
         "2.0",
         "0.0"
        ],
        [
         "max",
         "52.5",
         "4.79",
         "2.0",
         "1.0"
        ]
       ],
       "shape": {
        "columns": 4,
        "rows": 8
       }
      },
      "text/html": [
       "<div>\n",
       "<style scoped>\n",
       "    .dataframe tbody tr th:only-of-type {\n",
       "        vertical-align: middle;\n",
       "    }\n",
       "\n",
       "    .dataframe tbody tr th {\n",
       "        vertical-align: top;\n",
       "    }\n",
       "\n",
       "    .dataframe thead th {\n",
       "        text-align: right;\n",
       "    }\n",
       "</style>\n",
       "<table border=\"1\" class=\"dataframe\">\n",
       "  <thead>\n",
       "    <tr style=\"text-align: right;\">\n",
       "      <th></th>\n",
       "      <th>Changement climatique</th>\n",
       "      <th>DQR</th>\n",
       "      <th>code saison</th>\n",
       "      <th>code avion</th>\n",
       "    </tr>\n",
       "  </thead>\n",
       "  <tbody>\n",
       "    <tr>\n",
       "      <th>count</th>\n",
       "      <td>2451.000000</td>\n",
       "      <td>2451.000000</td>\n",
       "      <td>2451.000000</td>\n",
       "      <td>2451.000000</td>\n",
       "    </tr>\n",
       "    <tr>\n",
       "      <th>mean</th>\n",
       "      <td>5.764182</td>\n",
       "      <td>2.461334</td>\n",
       "      <td>1.997552</td>\n",
       "      <td>0.000816</td>\n",
       "    </tr>\n",
       "    <tr>\n",
       "      <th>std</th>\n",
       "      <td>8.115851</td>\n",
       "      <td>0.673588</td>\n",
       "      <td>0.063841</td>\n",
       "      <td>0.028560</td>\n",
       "    </tr>\n",
       "    <tr>\n",
       "      <th>min</th>\n",
       "      <td>0.000342</td>\n",
       "      <td>1.000000</td>\n",
       "      <td>0.000000</td>\n",
       "      <td>0.000000</td>\n",
       "    </tr>\n",
       "    <tr>\n",
       "      <th>25%</th>\n",
       "      <td>1.370000</td>\n",
       "      <td>1.960000</td>\n",
       "      <td>2.000000</td>\n",
       "      <td>0.000000</td>\n",
       "    </tr>\n",
       "    <tr>\n",
       "      <th>50%</th>\n",
       "      <td>2.780000</td>\n",
       "      <td>2.550000</td>\n",
       "      <td>2.000000</td>\n",
       "      <td>0.000000</td>\n",
       "    </tr>\n",
       "    <tr>\n",
       "      <th>75%</th>\n",
       "      <td>6.570000</td>\n",
       "      <td>2.940000</td>\n",
       "      <td>2.000000</td>\n",
       "      <td>0.000000</td>\n",
       "    </tr>\n",
       "    <tr>\n",
       "      <th>max</th>\n",
       "      <td>52.500000</td>\n",
       "      <td>4.790000</td>\n",
       "      <td>2.000000</td>\n",
       "      <td>1.000000</td>\n",
       "    </tr>\n",
       "  </tbody>\n",
       "</table>\n",
       "</div>"
      ],
      "text/plain": [
       "       Changement climatique          DQR  code saison   code avion\n",
       "count            2451.000000  2451.000000  2451.000000  2451.000000\n",
       "mean                5.764182     2.461334     1.997552     0.000816\n",
       "std                 8.115851     0.673588     0.063841     0.028560\n",
       "min                 0.000342     1.000000     0.000000     0.000000\n",
       "25%                 1.370000     1.960000     2.000000     0.000000\n",
       "50%                 2.780000     2.550000     2.000000     0.000000\n",
       "75%                 6.570000     2.940000     2.000000     0.000000\n",
       "max                52.500000     4.790000     2.000000     1.000000"
      ]
     },
     "execution_count": 3,
     "metadata": {},
     "output_type": "execute_result"
    }
   ],
   "source": [
    "data.info()\n",
    "data.describe()"
   ]
  },
  {
   "cell_type": "markdown",
   "id": "adbd0ea1",
   "metadata": {},
   "source": [
    "### Analyses des groupes d'aliments"
   ]
  },
  {
   "cell_type": "code",
   "execution_count": 4,
   "id": "ca322f48",
   "metadata": {},
   "outputs": [
    {
     "data": {
      "application/vnd.microsoft.datawrangler.viewer.v0+json": {
       "columns": [
        {
         "name": "Groupe d'aliment",
         "rawType": "string",
         "type": "string"
        },
        {
         "name": "count",
         "rawType": "int64",
         "type": "integer"
        },
        {
         "name": "mean",
         "rawType": "float64",
         "type": "float"
        },
        {
         "name": "min",
         "rawType": "float64",
         "type": "float"
        },
        {
         "name": "max",
         "rawType": "float64",
         "type": "float"
        }
       ],
       "ref": "8cc16263-d104-4efe-9b85-283b435e3460",
       "rows": [
        [
         "viandes, œufs, poissons",
         "648",
         "13.119182098765432",
         "0.54",
         "52.5"
        ],
        [
         "produits sucrés",
         "53",
         "7.063037735849057",
         "0.746",
         "19.3"
        ],
        [
         "entrées et plats composés",
         "309",
         "4.8008608414239475",
         "0.1",
         "27.8"
        ],
        [
         "lait et produits laitiers",
         "223",
         "4.461883408071749",
         "1.15",
         "12.5"
        ],
        [
         "matières grasses",
         "58",
         "4.342413793103448",
         "1.63",
         "27.4"
        ],
        [
         "aides culinaires et ingrédients divers",
         "157",
         "3.857407643312102",
         "0.372",
         "13.2"
        ],
        [
         "produits céréaliers",
         "375",
         "2.661952",
         "0.31",
         "10.3"
        ],
        [
         "glaces et sorbets",
         "25",
         "2.0944",
         "1.0",
         "4.24"
        ],
        [
         "aliments infantiles",
         "38",
         "1.749921052631579",
         "0.683",
         "8.05"
        ],
        [
         "fruits, légumes, légumineuses et oléagineux",
         "426",
         "1.4787253521126762",
         "0.334",
         "11.6"
        ],
        [
         "boissons",
         "139",
         "1.2192398705035972",
         "0.000342",
         "29.1"
        ]
       ],
       "shape": {
        "columns": 4,
        "rows": 11
       }
      },
      "text/html": [
       "<div>\n",
       "<style scoped>\n",
       "    .dataframe tbody tr th:only-of-type {\n",
       "        vertical-align: middle;\n",
       "    }\n",
       "\n",
       "    .dataframe tbody tr th {\n",
       "        vertical-align: top;\n",
       "    }\n",
       "\n",
       "    .dataframe thead th {\n",
       "        text-align: right;\n",
       "    }\n",
       "</style>\n",
       "<table border=\"1\" class=\"dataframe\">\n",
       "  <thead>\n",
       "    <tr style=\"text-align: right;\">\n",
       "      <th></th>\n",
       "      <th>count</th>\n",
       "      <th>mean</th>\n",
       "      <th>min</th>\n",
       "      <th>max</th>\n",
       "    </tr>\n",
       "    <tr>\n",
       "      <th>Groupe d'aliment</th>\n",
       "      <th></th>\n",
       "      <th></th>\n",
       "      <th></th>\n",
       "      <th></th>\n",
       "    </tr>\n",
       "  </thead>\n",
       "  <tbody>\n",
       "    <tr>\n",
       "      <th>viandes, œufs, poissons</th>\n",
       "      <td>648</td>\n",
       "      <td>13.119182</td>\n",
       "      <td>0.540000</td>\n",
       "      <td>52.50</td>\n",
       "    </tr>\n",
       "    <tr>\n",
       "      <th>produits sucrés</th>\n",
       "      <td>53</td>\n",
       "      <td>7.063038</td>\n",
       "      <td>0.746000</td>\n",
       "      <td>19.30</td>\n",
       "    </tr>\n",
       "    <tr>\n",
       "      <th>entrées et plats composés</th>\n",
       "      <td>309</td>\n",
       "      <td>4.800861</td>\n",
       "      <td>0.100000</td>\n",
       "      <td>27.80</td>\n",
       "    </tr>\n",
       "    <tr>\n",
       "      <th>lait et produits laitiers</th>\n",
       "      <td>223</td>\n",
       "      <td>4.461883</td>\n",
       "      <td>1.150000</td>\n",
       "      <td>12.50</td>\n",
       "    </tr>\n",
       "    <tr>\n",
       "      <th>matières grasses</th>\n",
       "      <td>58</td>\n",
       "      <td>4.342414</td>\n",
       "      <td>1.630000</td>\n",
       "      <td>27.40</td>\n",
       "    </tr>\n",
       "    <tr>\n",
       "      <th>aides culinaires et ingrédients divers</th>\n",
       "      <td>157</td>\n",
       "      <td>3.857408</td>\n",
       "      <td>0.372000</td>\n",
       "      <td>13.20</td>\n",
       "    </tr>\n",
       "    <tr>\n",
       "      <th>produits céréaliers</th>\n",
       "      <td>375</td>\n",
       "      <td>2.661952</td>\n",
       "      <td>0.310000</td>\n",
       "      <td>10.30</td>\n",
       "    </tr>\n",
       "    <tr>\n",
       "      <th>glaces et sorbets</th>\n",
       "      <td>25</td>\n",
       "      <td>2.094400</td>\n",
       "      <td>1.000000</td>\n",
       "      <td>4.24</td>\n",
       "    </tr>\n",
       "    <tr>\n",
       "      <th>aliments infantiles</th>\n",
       "      <td>38</td>\n",
       "      <td>1.749921</td>\n",
       "      <td>0.683000</td>\n",
       "      <td>8.05</td>\n",
       "    </tr>\n",
       "    <tr>\n",
       "      <th>fruits, légumes, légumineuses et oléagineux</th>\n",
       "      <td>426</td>\n",
       "      <td>1.478725</td>\n",
       "      <td>0.334000</td>\n",
       "      <td>11.60</td>\n",
       "    </tr>\n",
       "    <tr>\n",
       "      <th>boissons</th>\n",
       "      <td>139</td>\n",
       "      <td>1.219240</td>\n",
       "      <td>0.000342</td>\n",
       "      <td>29.10</td>\n",
       "    </tr>\n",
       "  </tbody>\n",
       "</table>\n",
       "</div>"
      ],
      "text/plain": [
       "                                             count       mean       min    max\n",
       "Groupe d'aliment                                                              \n",
       "viandes, œufs, poissons                        648  13.119182  0.540000  52.50\n",
       "produits sucrés                                 53   7.063038  0.746000  19.30\n",
       "entrées et plats composés                      309   4.800861  0.100000  27.80\n",
       "lait et produits laitiers                      223   4.461883  1.150000  12.50\n",
       "matières grasses                                58   4.342414  1.630000  27.40\n",
       "aides culinaires et ingrédients divers         157   3.857408  0.372000  13.20\n",
       "produits céréaliers                            375   2.661952  0.310000  10.30\n",
       "glaces et sorbets                               25   2.094400  1.000000   4.24\n",
       "aliments infantiles                             38   1.749921  0.683000   8.05\n",
       "fruits, légumes, légumineuses et oléagineux    426   1.478725  0.334000  11.60\n",
       "boissons                                       139   1.219240  0.000342  29.10"
      ]
     },
     "execution_count": 4,
     "metadata": {},
     "output_type": "execute_result"
    }
   ],
   "source": [
    "data.groupby(\"Groupe d'aliment\")[\"Changement climatique\"].agg(['count','mean','min','max']).sort_values('mean',ascending=False)"
   ]
  },
  {
   "cell_type": "code",
   "execution_count": 5,
   "id": "74dbc5a7",
   "metadata": {},
   "outputs": [
    {
     "data": {
      "application/vnd.microsoft.datawrangler.viewer.v0+json": {
       "columns": [
        {
         "name": "index",
         "rawType": "int64",
         "type": "integer"
        },
        {
         "name": "Groupe d'aliment",
         "rawType": "string",
         "type": "string"
        },
        {
         "name": "Sous-groupe d'aliment",
         "rawType": "string",
         "type": "string"
        },
        {
         "name": "count",
         "rawType": "int64",
         "type": "integer"
        },
        {
         "name": "mean",
         "rawType": "float64",
         "type": "float"
        },
        {
         "name": "min",
         "rawType": "float64",
         "type": "float"
        },
        {
         "name": "max",
         "rawType": "float64",
         "type": "float"
        }
       ],
       "ref": "121a73b2-ad15-4a76-a93b-86958918fe62",
       "rows": [
        [
         "0",
         "viandes, œufs, poissons",
         "viandes cuites",
         "105",
         "25.678285714285714",
         "2.14",
         "52.4"
        ],
        [
         "1",
         "viandes, œufs, poissons",
         "mollusques et crustacés cuits",
         "7",
         "18.80857142857143",
         "5.92",
         "41.6"
        ],
        [
         "2",
         "viandes, œufs, poissons",
         "viandes crues",
         "135",
         "16.75437037037037",
         "1.5",
         "41.3"
        ],
        [
         "3",
         "viandes, œufs, poissons",
         "autres produits à base de viande",
         "14",
         "15.207857142857142",
         "3.87",
         "52.5"
        ],
        [
         "4",
         "viandes, œufs, poissons",
         "mollusques et crustacés crus",
         "14",
         "12.301428571428572",
         "5.33",
         "39.2"
        ],
        [
         "5",
         "aides culinaires et ingrédients divers",
         "algues",
         "16",
         "11.7",
         "11.6",
         "11.8"
        ],
        [
         "6",
         "produits sucrés",
         "chocolats et produits à base de chocolat",
         "30",
         "11.298333333333334",
         "5.32",
         "19.3"
        ],
        [
         "7",
         "viandes, œufs, poissons",
         "poissons cuits",
         "55",
         "9.753818181818183",
         "2.61",
         "18.1"
        ],
        [
         "8",
         "viandes, œufs, poissons",
         "charcuteries",
         "146",
         "9.047602739726027",
         "2.11",
         "40.5"
        ],
        [
         "9",
         "viandes, œufs, poissons",
         "poissons crus",
         "94",
         "8.315425531914894",
         "1.81",
         "12.3"
        ],
        [
         "10",
         "matières grasses",
         "beurres",
         "10",
         "7.006",
         "4.55",
         "7.94"
        ],
        [
         "11",
         "aides culinaires et ingrédients divers",
         "épices",
         "23",
         "6.570608695652174",
         "0.494",
         "9.4"
        ],
        [
         "12",
         "entrées et plats composés",
         "plats composés",
         "122",
         "6.522508196721311",
         "0.557",
         "27.8"
        ],
        [
         "13",
         "viandes, œufs, poissons",
         "produits à base de poissons et produits de la mer",
         "46",
         "6.478695652173912",
         "1.96",
         "14.9"
        ],
        [
         "14",
         "lait et produits laitiers",
         "fromages",
         "121",
         "5.961652892561983",
         "1.87",
         "9.02"
        ],
        [
         "15",
         "entrées et plats composés",
         "feuilletées et autres entrées",
         "22",
         "5.767727272727273",
         "2.87",
         "24.8"
        ],
        [
         "16",
         "entrées et plats composés",
         "sandwichs",
         "40",
         "5.18525",
         "1.16",
         "18.8"
        ],
        [
         "17",
         "matières grasses",
         "huiles et graisses végétales",
         "21",
         "5.07952380952381",
         "1.63",
         "27.4"
        ],
        [
         "18",
         "entrées et plats composés",
         "salades composées et crudités",
         "13",
         "3.8776923076923073",
         "1.18",
         "11.6"
        ],
        [
         "19",
         "entrées et plats composés",
         "pizzas, tartes et crêpes salées",
         "45",
         "3.860222222222222",
         "1.84",
         "12.1"
        ],
        [
         "20",
         "fruits, légumes, légumineuses et oléagineux",
         "fruits à coque et graines oléagineuses",
         "49",
         "3.503877551020408",
         "1.25",
         "7.39"
        ],
        [
         "21",
         "produits céréaliers",
         "céréales de petit-déjeuner et biscuits",
         "125",
         "3.5027999999999997",
         "0.94",
         "10.3"
        ],
        [
         "22",
         "produits céréaliers",
         "gâteaux et pâtisseries",
         "76",
         "3.404394736842105",
         "0.824",
         "10.1"
        ],
        [
         "23",
         "aides culinaires et ingrédients divers",
         "aides culinaires",
         "3",
         "3.23",
         "0.94",
         "7.58"
        ],
        [
         "24",
         "lait et produits laitiers",
         "laits",
         "17",
         "3.2105882352941175",
         "1.15",
         "12.5"
        ],
        [
         "25",
         "viandes, œufs, poissons",
         "œufs",
         "21",
         "3.182380952380952",
         "1.17",
         "12.1"
        ],
        [
         "26",
         "matières grasses",
         "huiles de poissons",
         "4",
         "3.05",
         "3.05",
         "3.05"
        ],
        [
         "27",
         "matières grasses",
         "margarines",
         "17",
         "2.8370588235294116",
         "1.64",
         "4.28"
        ],
        [
         "28",
         "lait et produits laitiers",
         "crèmes et spécialités à base de crème",
         "6",
         "2.8266666666666667",
         "1.97",
         "3.83"
        ],
        [
         "29",
         "aides culinaires et ingrédients divers",
         "sauces",
         "59",
         "2.787372881355932",
         "0.995",
         "13.2"
        ],
        [
         "30",
         "aides culinaires et ingrédients divers",
         "denrées destinées à une alimentation particulière",
         "4",
         "2.66",
         "2.66",
         "2.66"
        ],
        [
         "31",
         "lait et produits laitiers",
         "produits laitiers frais et assimilés",
         "79",
         "2.5582278481012657",
         "1.21",
         "10.7"
        ],
        [
         "32",
         "matières grasses",
         "autres matières grasses",
         "6",
         "2.4499999999999997",
         "2.33",
         "2.61"
        ],
        [
         "33",
         "glaces et sorbets",
         "desserts glacés",
         "12",
         "2.3708333333333336",
         "1.98",
         "4.24"
        ],
        [
         "34",
         "aliments infantiles",
         "desserts infantiles",
         "5",
         "2.1220000000000003",
         "1.57",
         "2.49"
        ],
        [
         "35",
         "viandes, œufs, poissons",
         "substituts de charcuterie",
         "3",
         "2.1199999999999997",
         "1.68",
         "2.51"
        ],
        [
         "36",
         "entrées et plats composés",
         "plats végétariens",
         "24",
         "2.07625",
         "1.61",
         "2.83"
        ],
        [
         "37",
         "produits céréaliers",
         "farines et pâtes à tarte",
         "40",
         "2.057375",
         "0.716",
         "3.93"
        ],
        [
         "38",
         "glaces et sorbets",
         "glaces",
         "10",
         "2.017",
         "1.92",
         "2.55"
        ],
        [
         "39",
         "viandes, œufs, poissons",
         "substituts de viande",
         "8",
         "2.01375",
         "0.54",
         "3.93"
        ],
        [
         "40",
         "aides culinaires et ingrédients divers",
         "ingrédients divers",
         "16",
         "1.9328750000000001",
         "0.372",
         "5.63"
        ],
        [
         "41",
         "produits sucrés",
         "confitures et assimilés",
         "7",
         "1.8671428571428572",
         "1.4",
         "2.22"
        ],
        [
         "42",
         "aliments infantiles",
         "céréales et biscuits infantiles",
         "5",
         "1.8504",
         "0.911",
         "3.03"
        ],
        [
         "43",
         "entrées et plats composés",
         "soupes",
         "43",
         "1.8481395348837208",
         "0.1",
         "9.95"
        ],
        [
         "44",
         "aliments infantiles",
         "laits et boissons infantiles",
         "15",
         "1.8418666666666668",
         "0.683",
         "8.05"
        ],
        [
         "45",
         "produits céréaliers",
         "pains et viennoiseries",
         "72",
         "1.8151944444444443",
         "0.714",
         "5.73"
        ],
        [
         "46",
         "aides culinaires et ingrédients divers",
         "herbes",
         "24",
         "1.653625",
         "0.383",
         "4.34"
        ],
        [
         "47",
         "produits sucrés",
         "confiseries non chocolatées",
         "9",
         "1.581",
         "0.859",
         "2.12"
        ],
        [
         "48",
         "aliments infantiles",
         "petits pots salés et plats infantiles",
         "13",
         "1.4620769230769233",
         "0.797",
         "2.25"
        ],
        [
         "49",
         "produits céréaliers",
         "pâtes, riz et céréales",
         "62",
         "1.4299838709677417",
         "0.31",
         "7.09"
        ]
       ],
       "shape": {
        "columns": 6,
        "rows": 61
       }
      },
      "text/html": [
       "<div>\n",
       "<style scoped>\n",
       "    .dataframe tbody tr th:only-of-type {\n",
       "        vertical-align: middle;\n",
       "    }\n",
       "\n",
       "    .dataframe tbody tr th {\n",
       "        vertical-align: top;\n",
       "    }\n",
       "\n",
       "    .dataframe thead th {\n",
       "        text-align: right;\n",
       "    }\n",
       "</style>\n",
       "<table border=\"1\" class=\"dataframe\">\n",
       "  <thead>\n",
       "    <tr style=\"text-align: right;\">\n",
       "      <th></th>\n",
       "      <th>Groupe d'aliment</th>\n",
       "      <th>Sous-groupe d'aliment</th>\n",
       "      <th>count</th>\n",
       "      <th>mean</th>\n",
       "      <th>min</th>\n",
       "      <th>max</th>\n",
       "    </tr>\n",
       "  </thead>\n",
       "  <tbody>\n",
       "    <tr>\n",
       "      <th>0</th>\n",
       "      <td>viandes, œufs, poissons</td>\n",
       "      <td>viandes cuites</td>\n",
       "      <td>105</td>\n",
       "      <td>25.678286</td>\n",
       "      <td>2.140000</td>\n",
       "      <td>52.400</td>\n",
       "    </tr>\n",
       "    <tr>\n",
       "      <th>1</th>\n",
       "      <td>viandes, œufs, poissons</td>\n",
       "      <td>mollusques et crustacés cuits</td>\n",
       "      <td>7</td>\n",
       "      <td>18.808571</td>\n",
       "      <td>5.920000</td>\n",
       "      <td>41.600</td>\n",
       "    </tr>\n",
       "    <tr>\n",
       "      <th>2</th>\n",
       "      <td>viandes, œufs, poissons</td>\n",
       "      <td>viandes crues</td>\n",
       "      <td>135</td>\n",
       "      <td>16.754370</td>\n",
       "      <td>1.500000</td>\n",
       "      <td>41.300</td>\n",
       "    </tr>\n",
       "    <tr>\n",
       "      <th>3</th>\n",
       "      <td>viandes, œufs, poissons</td>\n",
       "      <td>autres produits à base de viande</td>\n",
       "      <td>14</td>\n",
       "      <td>15.207857</td>\n",
       "      <td>3.870000</td>\n",
       "      <td>52.500</td>\n",
       "    </tr>\n",
       "    <tr>\n",
       "      <th>4</th>\n",
       "      <td>viandes, œufs, poissons</td>\n",
       "      <td>mollusques et crustacés crus</td>\n",
       "      <td>14</td>\n",
       "      <td>12.301429</td>\n",
       "      <td>5.330000</td>\n",
       "      <td>39.200</td>\n",
       "    </tr>\n",
       "    <tr>\n",
       "      <th>...</th>\n",
       "      <td>...</td>\n",
       "      <td>...</td>\n",
       "      <td>...</td>\n",
       "      <td>...</td>\n",
       "      <td>...</td>\n",
       "      <td>...</td>\n",
       "    </tr>\n",
       "    <tr>\n",
       "      <th>56</th>\n",
       "      <td>boissons</td>\n",
       "      <td>boissons sans alcool</td>\n",
       "      <td>95</td>\n",
       "      <td>1.159716</td>\n",
       "      <td>0.043600</td>\n",
       "      <td>29.100</td>\n",
       "    </tr>\n",
       "    <tr>\n",
       "      <th>57</th>\n",
       "      <td>produits sucrés</td>\n",
       "      <td>sucres, miels et assimilés</td>\n",
       "      <td>7</td>\n",
       "      <td>1.156000</td>\n",
       "      <td>0.746000</td>\n",
       "      <td>1.920</td>\n",
       "    </tr>\n",
       "    <tr>\n",
       "      <th>58</th>\n",
       "      <td>fruits, légumes, légumineuses et oléagineux</td>\n",
       "      <td>légumineuses</td>\n",
       "      <td>36</td>\n",
       "      <td>0.740806</td>\n",
       "      <td>0.409000</td>\n",
       "      <td>2.200</td>\n",
       "    </tr>\n",
       "    <tr>\n",
       "      <th>59</th>\n",
       "      <td>aides culinaires et ingrédients divers</td>\n",
       "      <td>sels</td>\n",
       "      <td>5</td>\n",
       "      <td>0.632000</td>\n",
       "      <td>0.632000</td>\n",
       "      <td>0.632</td>\n",
       "    </tr>\n",
       "    <tr>\n",
       "      <th>60</th>\n",
       "      <td>boissons</td>\n",
       "      <td>eaux</td>\n",
       "      <td>2</td>\n",
       "      <td>0.160671</td>\n",
       "      <td>0.000342</td>\n",
       "      <td>0.321</td>\n",
       "    </tr>\n",
       "  </tbody>\n",
       "</table>\n",
       "<p>61 rows × 6 columns</p>\n",
       "</div>"
      ],
      "text/plain": [
       "                               Groupe d'aliment  \\\n",
       "0                       viandes, œufs, poissons   \n",
       "1                       viandes, œufs, poissons   \n",
       "2                       viandes, œufs, poissons   \n",
       "3                       viandes, œufs, poissons   \n",
       "4                       viandes, œufs, poissons   \n",
       "..                                          ...   \n",
       "56                                     boissons   \n",
       "57                              produits sucrés   \n",
       "58  fruits, légumes, légumineuses et oléagineux   \n",
       "59       aides culinaires et ingrédients divers   \n",
       "60                                     boissons   \n",
       "\n",
       "               Sous-groupe d'aliment  count       mean       min     max  \n",
       "0                     viandes cuites    105  25.678286  2.140000  52.400  \n",
       "1      mollusques et crustacés cuits      7  18.808571  5.920000  41.600  \n",
       "2                      viandes crues    135  16.754370  1.500000  41.300  \n",
       "3   autres produits à base de viande     14  15.207857  3.870000  52.500  \n",
       "4       mollusques et crustacés crus     14  12.301429  5.330000  39.200  \n",
       "..                               ...    ...        ...       ...     ...  \n",
       "56              boissons sans alcool     95   1.159716  0.043600  29.100  \n",
       "57        sucres, miels et assimilés      7   1.156000  0.746000   1.920  \n",
       "58                      légumineuses     36   0.740806  0.409000   2.200  \n",
       "59                              sels      5   0.632000  0.632000   0.632  \n",
       "60                              eaux      2   0.160671  0.000342   0.321  \n",
       "\n",
       "[61 rows x 6 columns]"
      ]
     },
     "execution_count": 5,
     "metadata": {},
     "output_type": "execute_result"
    }
   ],
   "source": [
    "data.groupby([\"Groupe d'aliment\", \"Sous-groupe d'aliment\"])[\"Changement climatique\"].agg(['count','mean','min','max']).sort_values('mean',ascending=False).reset_index()"
   ]
  },
  {
   "cell_type": "markdown",
   "id": "0b2e6d7e",
   "metadata": {},
   "source": [
    "### Produits extrêmes"
   ]
  },
  {
   "cell_type": "code",
   "execution_count": 6,
   "id": "5a70e6e5",
   "metadata": {},
   "outputs": [
    {
     "name": "stdout",
     "output_type": "stream",
     "text": [
      "Top 10 des produits les plus polluants:\n"
     ]
    },
    {
     "data": {
      "application/vnd.microsoft.datawrangler.viewer.v0+json": {
       "columns": [
        {
         "name": "index",
         "rawType": "int64",
         "type": "integer"
        },
        {
         "name": "Nom du Produit en Français",
         "rawType": "string",
         "type": "string"
        },
        {
         "name": "Changement climatique",
         "rawType": "float64",
         "type": "float"
        }
       ],
       "ref": "63f66cd0-c8ec-4294-8ec1-e124e1048e3c",
       "rows": [
        [
         "1804",
         "Brochette d'agneau",
         "52.5"
        ],
        [
         "2347",
         "Agneau, côte filet, grillée/poêlée",
         "52.4"
        ],
        [
         "2348",
         "Agneau, côte première, grillée/poêlée",
         "52.4"
        ],
        [
         "2349",
         "Agneau, côtelette, grillée",
         "52.4"
        ],
        [
         "2353",
         "Agneau, gigot, grillé/poêlé",
         "52.4"
        ],
        [
         "2355",
         "Agneau, selle, partie maigre, grillée/poêlée",
         "52.4"
        ],
        [
         "2391",
         "Chevreau, cuit",
         "52.4"
        ],
        [
         "2346",
         "Agneau, collier, braisé ou bouilli",
         "52.3"
        ],
        [
         "2352",
         "Agneau, gigot, braisé",
         "52.3"
        ],
        [
         "2354",
         "Agneau, gigot, rôti/cuit au four",
         "52.3"
        ]
       ],
       "shape": {
        "columns": 2,
        "rows": 10
       }
      },
      "text/html": [
       "<div>\n",
       "<style scoped>\n",
       "    .dataframe tbody tr th:only-of-type {\n",
       "        vertical-align: middle;\n",
       "    }\n",
       "\n",
       "    .dataframe tbody tr th {\n",
       "        vertical-align: top;\n",
       "    }\n",
       "\n",
       "    .dataframe thead th {\n",
       "        text-align: right;\n",
       "    }\n",
       "</style>\n",
       "<table border=\"1\" class=\"dataframe\">\n",
       "  <thead>\n",
       "    <tr style=\"text-align: right;\">\n",
       "      <th></th>\n",
       "      <th>Nom du Produit en Français</th>\n",
       "      <th>Changement climatique</th>\n",
       "    </tr>\n",
       "  </thead>\n",
       "  <tbody>\n",
       "    <tr>\n",
       "      <th>1804</th>\n",
       "      <td>Brochette d'agneau</td>\n",
       "      <td>52.5</td>\n",
       "    </tr>\n",
       "    <tr>\n",
       "      <th>2347</th>\n",
       "      <td>Agneau, côte filet, grillée/poêlée</td>\n",
       "      <td>52.4</td>\n",
       "    </tr>\n",
       "    <tr>\n",
       "      <th>2348</th>\n",
       "      <td>Agneau, côte première, grillée/poêlée</td>\n",
       "      <td>52.4</td>\n",
       "    </tr>\n",
       "    <tr>\n",
       "      <th>2349</th>\n",
       "      <td>Agneau, côtelette, grillée</td>\n",
       "      <td>52.4</td>\n",
       "    </tr>\n",
       "    <tr>\n",
       "      <th>2353</th>\n",
       "      <td>Agneau, gigot, grillé/poêlé</td>\n",
       "      <td>52.4</td>\n",
       "    </tr>\n",
       "    <tr>\n",
       "      <th>2355</th>\n",
       "      <td>Agneau, selle, partie maigre, grillée/poêlée</td>\n",
       "      <td>52.4</td>\n",
       "    </tr>\n",
       "    <tr>\n",
       "      <th>2391</th>\n",
       "      <td>Chevreau, cuit</td>\n",
       "      <td>52.4</td>\n",
       "    </tr>\n",
       "    <tr>\n",
       "      <th>2346</th>\n",
       "      <td>Agneau, collier, braisé ou bouilli</td>\n",
       "      <td>52.3</td>\n",
       "    </tr>\n",
       "    <tr>\n",
       "      <th>2352</th>\n",
       "      <td>Agneau, gigot, braisé</td>\n",
       "      <td>52.3</td>\n",
       "    </tr>\n",
       "    <tr>\n",
       "      <th>2354</th>\n",
       "      <td>Agneau, gigot, rôti/cuit au four</td>\n",
       "      <td>52.3</td>\n",
       "    </tr>\n",
       "  </tbody>\n",
       "</table>\n",
       "</div>"
      ],
      "text/plain": [
       "                        Nom du Produit en Français  Changement climatique\n",
       "1804                            Brochette d'agneau                   52.5\n",
       "2347            Agneau, côte filet, grillée/poêlée                   52.4\n",
       "2348         Agneau, côte première, grillée/poêlée                   52.4\n",
       "2349                    Agneau, côtelette, grillée                   52.4\n",
       "2353                   Agneau, gigot, grillé/poêlé                   52.4\n",
       "2355  Agneau, selle, partie maigre, grillée/poêlée                   52.4\n",
       "2391                                Chevreau, cuit                   52.4\n",
       "2346            Agneau, collier, braisé ou bouilli                   52.3\n",
       "2352                         Agneau, gigot, braisé                   52.3\n",
       "2354              Agneau, gigot, rôti/cuit au four                   52.3"
      ]
     },
     "execution_count": 6,
     "metadata": {},
     "output_type": "execute_result"
    }
   ],
   "source": [
    "print(\"Top 10 des produits les plus polluants:\")\n",
    "data.nlargest(10, 'Changement climatique')[['Nom du Produit en Français', 'Changement climatique']]"
   ]
  },
  {
   "cell_type": "code",
   "execution_count": 7,
   "id": "df9f0b93",
   "metadata": {},
   "outputs": [
    {
     "name": "stdout",
     "output_type": "stream",
     "text": [
      "Top 10 des produits les moins polluants:\n"
     ]
    },
    {
     "data": {
      "application/vnd.microsoft.datawrangler.viewer.v0+json": {
       "columns": [
        {
         "name": "index",
         "rawType": "int64",
         "type": "integer"
        },
        {
         "name": "Nom du Produit en Français",
         "rawType": "string",
         "type": "string"
        },
        {
         "name": "Changement climatique",
         "rawType": "float64",
         "type": "float"
        }
       ],
       "ref": "a9096a4f-1bb0-443a-a76a-b328147e0e1f",
       "rows": [
        [
         "332",
         "Eau du robinet",
         "0.000342"
        ],
        [
         "324",
         "Thé infusé, non sucré",
         "0.0436"
        ],
        [
         "325",
         "Thé noir, infusé, non sucré",
         "0.0436"
        ],
        [
         "326",
         "Thé oolong, infusé, non sucré",
         "0.0436"
        ],
        [
         "327",
         "Thé vert, infusé, non sucré",
         "0.0436"
        ],
        [
         "328",
         "Tisane infusée, non sucrée",
         "0.0436"
        ],
        [
         "601",
         "Bouillon de légumes, déshydraté reconstitué",
         "0.1"
        ],
        [
         "602",
         "Bouillon de volaille, déshydraté reconstitué",
         "0.103"
        ],
        [
         "600",
         "Bouillon de boeuf, déshydraté reconstitué",
         "0.113"
        ],
        [
         "271",
         "Boisson préparée à partir de sirop à diluer type menthe, fraise, etc, sucré, dilué dans l'eau",
         "0.125"
        ]
       ],
       "shape": {
        "columns": 2,
        "rows": 10
       }
      },
      "text/html": [
       "<div>\n",
       "<style scoped>\n",
       "    .dataframe tbody tr th:only-of-type {\n",
       "        vertical-align: middle;\n",
       "    }\n",
       "\n",
       "    .dataframe tbody tr th {\n",
       "        vertical-align: top;\n",
       "    }\n",
       "\n",
       "    .dataframe thead th {\n",
       "        text-align: right;\n",
       "    }\n",
       "</style>\n",
       "<table border=\"1\" class=\"dataframe\">\n",
       "  <thead>\n",
       "    <tr style=\"text-align: right;\">\n",
       "      <th></th>\n",
       "      <th>Nom du Produit en Français</th>\n",
       "      <th>Changement climatique</th>\n",
       "    </tr>\n",
       "  </thead>\n",
       "  <tbody>\n",
       "    <tr>\n",
       "      <th>332</th>\n",
       "      <td>Eau du robinet</td>\n",
       "      <td>0.000342</td>\n",
       "    </tr>\n",
       "    <tr>\n",
       "      <th>324</th>\n",
       "      <td>Thé infusé, non sucré</td>\n",
       "      <td>0.043600</td>\n",
       "    </tr>\n",
       "    <tr>\n",
       "      <th>325</th>\n",
       "      <td>Thé noir, infusé, non sucré</td>\n",
       "      <td>0.043600</td>\n",
       "    </tr>\n",
       "    <tr>\n",
       "      <th>326</th>\n",
       "      <td>Thé oolong, infusé, non sucré</td>\n",
       "      <td>0.043600</td>\n",
       "    </tr>\n",
       "    <tr>\n",
       "      <th>327</th>\n",
       "      <td>Thé vert, infusé, non sucré</td>\n",
       "      <td>0.043600</td>\n",
       "    </tr>\n",
       "    <tr>\n",
       "      <th>328</th>\n",
       "      <td>Tisane infusée, non sucrée</td>\n",
       "      <td>0.043600</td>\n",
       "    </tr>\n",
       "    <tr>\n",
       "      <th>601</th>\n",
       "      <td>Bouillon de légumes, déshydraté reconstitué</td>\n",
       "      <td>0.100000</td>\n",
       "    </tr>\n",
       "    <tr>\n",
       "      <th>602</th>\n",
       "      <td>Bouillon de volaille, déshydraté reconstitué</td>\n",
       "      <td>0.103000</td>\n",
       "    </tr>\n",
       "    <tr>\n",
       "      <th>600</th>\n",
       "      <td>Bouillon de boeuf, déshydraté reconstitué</td>\n",
       "      <td>0.113000</td>\n",
       "    </tr>\n",
       "    <tr>\n",
       "      <th>271</th>\n",
       "      <td>Boisson préparée à partir de sirop à diluer ty...</td>\n",
       "      <td>0.125000</td>\n",
       "    </tr>\n",
       "  </tbody>\n",
       "</table>\n",
       "</div>"
      ],
      "text/plain": [
       "                            Nom du Produit en Français  Changement climatique\n",
       "332                                     Eau du robinet               0.000342\n",
       "324                              Thé infusé, non sucré               0.043600\n",
       "325                        Thé noir, infusé, non sucré               0.043600\n",
       "326                      Thé oolong, infusé, non sucré               0.043600\n",
       "327                        Thé vert, infusé, non sucré               0.043600\n",
       "328                         Tisane infusée, non sucrée               0.043600\n",
       "601        Bouillon de légumes, déshydraté reconstitué               0.100000\n",
       "602       Bouillon de volaille, déshydraté reconstitué               0.103000\n",
       "600          Bouillon de boeuf, déshydraté reconstitué               0.113000\n",
       "271  Boisson préparée à partir de sirop à diluer ty...               0.125000"
      ]
     },
     "execution_count": 7,
     "metadata": {},
     "output_type": "execute_result"
    }
   ],
   "source": [
    "print(\"Top 10 des produits les moins polluants:\")\n",
    "data.nsmallest(10, 'Changement climatique')[['Nom du Produit en Français', 'Changement climatique']]"
   ]
  },
  {
   "cell_type": "markdown",
   "id": "0bdb6e99",
   "metadata": {},
   "source": []
  }
 ],
 "metadata": {
  "kernelspec": {
   "display_name": "ecomenu-assistant",
   "language": "python",
   "name": "python3"
  },
  "language_info": {
   "codemirror_mode": {
    "name": "ipython",
    "version": 3
   },
   "file_extension": ".py",
   "mimetype": "text/x-python",
   "name": "python",
   "nbconvert_exporter": "python",
   "pygments_lexer": "ipython3",
   "version": "3.12.8"
  }
 },
 "nbformat": 4,
 "nbformat_minor": 5
}
